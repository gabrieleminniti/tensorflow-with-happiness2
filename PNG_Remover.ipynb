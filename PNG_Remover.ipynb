{
 "cells": [
  {
   "cell_type": "markdown",
   "metadata": {},
   "source": [
    "## PNG Remover\n",
    "\n",
    "To use this script i supposed that you are based on the root of your project, and I expect to find \n",
    "**tf_files/dataset/class_1 and class_2 and class_3** \n",
    "\n",
    "if you have much classes you only need to create and modify the correct directory in this file! "
   ]
  },
  {
   "cell_type": "code",
   "execution_count": 1,
   "metadata": {
    "collapsed": true
   },
   "outputs": [],
   "source": [
    "import os"
   ]
  },
  {
   "cell_type": "code",
   "execution_count": null,
   "metadata": {
    "collapsed": true
   },
   "outputs": [],
   "source": [
    "#classes, default it's a string with 'class_1' or 'class_2' or 'class_3'\n",
    "#set your classes\n",
    "class_1 = 'class_1'\n",
    "class_2 = 'class_2'\n",
    "class_3 = 'class_3'"
   ]
  },
  {
   "cell_type": "code",
   "execution_count": 2,
   "metadata": {
    "collapsed": true
   },
   "outputs": [],
   "source": [
    "path = os.getcwd() + '/tf_files/dataset/'"
   ]
  },
  {
   "cell_type": "code",
   "execution_count": 3,
   "metadata": {},
   "outputs": [
    {
     "name": "stdout",
     "output_type": "stream",
     "text": [
      "/Users/gabriele.minniti/tf_files/dataset/\n"
     ]
    }
   ],
   "source": [
    "class_1_to_remove = [el for el in os.listdir(path + class_1) if el.endswith('png') or el == '.DS_Store'] #mac user knows that stuff\n",
    "class_2_to_remove = [el for el in os.listdir(path + class_2) if el.endswith('png') or el == '.DS_Store']\n",
    "class_3_to_remove = [el for el in os.listdir(path + class_3) if el.endswith('png') or el == '.DS_Store']"
   ]
  },
  {
   "cell_type": "code",
   "execution_count": null,
   "metadata": {
    "collapsed": true
   },
   "outputs": [],
   "source": [
    "print ('\\n')\n",
    "print (len(os.listdir(path + class_1)), ' --> n. element first folder')\n",
    "print (len(os.listdir(path + class_2)), ' --> n. element second folder')\n",
    "print (len(os.listdir(path + class_3)), ' --> n. element third folder')"
   ]
  },
  {
   "cell_type": "code",
   "execution_count": null,
   "metadata": {
    "collapsed": true
   },
   "outputs": [],
   "source": [
    "for f in class_1_to_remove:\n",
    "    os.remove(path + class_1 + \"/\" + f)\n",
    "    \n",
    "print len(os.listdir(path + class_1))"
   ]
  },
  {
   "cell_type": "code",
   "execution_count": null,
   "metadata": {
    "collapsed": true
   },
   "outputs": [],
   "source": [
    "for f in class_2_to_remove:\n",
    "    os.remove(path + class_2 + '/' + f)\n",
    "    \n",
    "print len(os.listdir(path + class_2))"
   ]
  },
  {
   "cell_type": "code",
   "execution_count": null,
   "metadata": {
    "collapsed": true
   },
   "outputs": [],
   "source": [
    "for f in class_3_to_remove:\n",
    "    os.remove(path + class_3 + '/' + f)\n",
    "    \n",
    "print len(os.listdir(path + class_3))"
   ]
  },
  {
   "cell_type": "markdown",
   "metadata": {},
   "source": [
    "Now you are ready to split training data (with training set and validation set) from testing data. "
   ]
  },
  {
   "cell_type": "markdown",
   "metadata": {},
   "source": [
    "** Select a small percentage of your traininig images to evaluate your model after training**"
   ]
  },
  {
   "cell_type": "markdown",
   "metadata": {},
   "source": [
    "*work in progress: it will arrive the second part of this notebook that helps you to do it! 'Till that moment you have the ability to press Ctrl+C and Ctrl+V or command+C and command+V, have fun ;) *"
   ]
  },
  {
   "cell_type": "code",
   "execution_count": null,
   "metadata": {
    "collapsed": true
   },
   "outputs": [],
   "source": []
  }
 ],
 "metadata": {
  "kernelspec": {
   "display_name": "Python 3",
   "language": "python",
   "name": "python3"
  },
  "language_info": {
   "codemirror_mode": {
    "name": "ipython",
    "version": 3
   },
   "file_extension": ".py",
   "mimetype": "text/x-python",
   "name": "python",
   "nbconvert_exporter": "python",
   "pygments_lexer": "ipython3",
   "version": "3.6.3"
  }
 },
 "nbformat": 4,
 "nbformat_minor": 2
}
